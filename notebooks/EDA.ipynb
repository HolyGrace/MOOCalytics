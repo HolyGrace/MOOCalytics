{
 "cells": [
  {
   "cell_type": "code",
   "execution_count": 747,
   "metadata": {},
   "outputs": [],
   "source": [
    "import pandas as pd\n",
    "import numpy as np\n",
    "import matplotlib.pyplot as plt\n",
    "import seaborn as sns\n",
    "sns.set()\n",
    "\n",
    "import warnings\n",
    "warnings.filterwarnings(\"ignore\")"
   ]
  },
  {
   "attachments": {},
   "cell_type": "markdown",
   "metadata": {},
   "source": [
    "## Coursera"
   ]
  },
  {
   "cell_type": "code",
   "execution_count": 748,
   "metadata": {},
   "outputs": [
    {
     "data": {
      "text/html": [
       "<div>\n",
       "<style scoped>\n",
       "    .dataframe tbody tr th:only-of-type {\n",
       "        vertical-align: middle;\n",
       "    }\n",
       "\n",
       "    .dataframe tbody tr th {\n",
       "        vertical-align: top;\n",
       "    }\n",
       "\n",
       "    .dataframe thead th {\n",
       "        text-align: right;\n",
       "    }\n",
       "</style>\n",
       "<table border=\"1\" class=\"dataframe\">\n",
       "  <thead>\n",
       "    <tr style=\"text-align: right;\">\n",
       "      <th></th>\n",
       "      <th>name</th>\n",
       "      <th>institution</th>\n",
       "      <th>course_url</th>\n",
       "      <th>course_id</th>\n",
       "    </tr>\n",
       "  </thead>\n",
       "  <tbody>\n",
       "    <tr>\n",
       "      <th>0</th>\n",
       "      <td>Machine Learning</td>\n",
       "      <td>Stanford University</td>\n",
       "      <td>https://www.coursera.org/learn/machine-learning</td>\n",
       "      <td>machine-learning</td>\n",
       "    </tr>\n",
       "    <tr>\n",
       "      <th>1</th>\n",
       "      <td>Indigenous Canada</td>\n",
       "      <td>University of Alberta</td>\n",
       "      <td>https://www.coursera.org/learn/indigenous-canada</td>\n",
       "      <td>indigenous-canada</td>\n",
       "    </tr>\n",
       "    <tr>\n",
       "      <th>2</th>\n",
       "      <td>The Science of Well-Being</td>\n",
       "      <td>Yale University</td>\n",
       "      <td>https://www.coursera.org/learn/the-science-of-...</td>\n",
       "      <td>the-science-of-well-being</td>\n",
       "    </tr>\n",
       "    <tr>\n",
       "      <th>3</th>\n",
       "      <td>Technical Support Fundamentals</td>\n",
       "      <td>Google</td>\n",
       "      <td>https://www.coursera.org/learn/technical-suppo...</td>\n",
       "      <td>technical-support-fundamentals</td>\n",
       "    </tr>\n",
       "    <tr>\n",
       "      <th>4</th>\n",
       "      <td>Become a CBRS Certified Professional Installer...</td>\n",
       "      <td>Google - Spectrum Sharing</td>\n",
       "      <td>https://www.coursera.org/learn/google-cbrs-cpi...</td>\n",
       "      <td>google-cbrs-cpi-training</td>\n",
       "    </tr>\n",
       "    <tr>\n",
       "      <th>...</th>\n",
       "      <td>...</td>\n",
       "      <td>...</td>\n",
       "      <td>...</td>\n",
       "      <td>...</td>\n",
       "    </tr>\n",
       "    <tr>\n",
       "      <th>618</th>\n",
       "      <td>Accounting Data Analytics with Python</td>\n",
       "      <td>University of Illinois at Urbana-Champaign</td>\n",
       "      <td>https://www.coursera.org/learn/accounting-data...</td>\n",
       "      <td>accounting-data-analytics-python</td>\n",
       "    </tr>\n",
       "    <tr>\n",
       "      <th>619</th>\n",
       "      <td>Introduction to Molecular Spectroscopy</td>\n",
       "      <td>University of Manchester</td>\n",
       "      <td>https://www.coursera.org/learn/spectroscopy</td>\n",
       "      <td>spectroscopy</td>\n",
       "    </tr>\n",
       "    <tr>\n",
       "      <th>620</th>\n",
       "      <td>Managing as a Coach</td>\n",
       "      <td>University of California, Davis</td>\n",
       "      <td>https://www.coursera.org/learn/managing-as-a-c...</td>\n",
       "      <td>managing-as-a-coach</td>\n",
       "    </tr>\n",
       "    <tr>\n",
       "      <th>621</th>\n",
       "      <td>The fundamentals of hotel distribution</td>\n",
       "      <td>ESSEC Business School</td>\n",
       "      <td>https://www.coursera.org/learn/hotel-distribution</td>\n",
       "      <td>hotel-distribution</td>\n",
       "    </tr>\n",
       "    <tr>\n",
       "      <th>622</th>\n",
       "      <td>A Crash Course in Data Science</td>\n",
       "      <td>Johns Hopkins University</td>\n",
       "      <td>https://www.coursera.org/learn/data-science-co...</td>\n",
       "      <td>data-science-course</td>\n",
       "    </tr>\n",
       "  </tbody>\n",
       "</table>\n",
       "<p>623 rows × 4 columns</p>\n",
       "</div>"
      ],
      "text/plain": [
       "                                                  name  \\\n",
       "0                                     Machine Learning   \n",
       "1                                    Indigenous Canada   \n",
       "2                            The Science of Well-Being   \n",
       "3                       Technical Support Fundamentals   \n",
       "4    Become a CBRS Certified Professional Installer...   \n",
       "..                                                 ...   \n",
       "618              Accounting Data Analytics with Python   \n",
       "619             Introduction to Molecular Spectroscopy   \n",
       "620                                Managing as a Coach   \n",
       "621             The fundamentals of hotel distribution   \n",
       "622                     A Crash Course in Data Science   \n",
       "\n",
       "                                    institution  \\\n",
       "0                           Stanford University   \n",
       "1                         University of Alberta   \n",
       "2                               Yale University   \n",
       "3                                        Google   \n",
       "4                     Google - Spectrum Sharing   \n",
       "..                                          ...   \n",
       "618  University of Illinois at Urbana-Champaign   \n",
       "619                 University of Manchester      \n",
       "620             University of California, Davis   \n",
       "621                       ESSEC Business School   \n",
       "622                    Johns Hopkins University   \n",
       "\n",
       "                                            course_url  \\\n",
       "0      https://www.coursera.org/learn/machine-learning   \n",
       "1     https://www.coursera.org/learn/indigenous-canada   \n",
       "2    https://www.coursera.org/learn/the-science-of-...   \n",
       "3    https://www.coursera.org/learn/technical-suppo...   \n",
       "4    https://www.coursera.org/learn/google-cbrs-cpi...   \n",
       "..                                                 ...   \n",
       "618  https://www.coursera.org/learn/accounting-data...   \n",
       "619        https://www.coursera.org/learn/spectroscopy   \n",
       "620  https://www.coursera.org/learn/managing-as-a-c...   \n",
       "621  https://www.coursera.org/learn/hotel-distribution   \n",
       "622  https://www.coursera.org/learn/data-science-co...   \n",
       "\n",
       "                            course_id  \n",
       "0                    machine-learning  \n",
       "1                   indigenous-canada  \n",
       "2           the-science-of-well-being  \n",
       "3      technical-support-fundamentals  \n",
       "4            google-cbrs-cpi-training  \n",
       "..                                ...  \n",
       "618  accounting-data-analytics-python  \n",
       "619                      spectroscopy  \n",
       "620               managing-as-a-coach  \n",
       "621                hotel-distribution  \n",
       "622               data-science-course  \n",
       "\n",
       "[623 rows x 4 columns]"
      ]
     },
     "execution_count": 748,
     "metadata": {},
     "output_type": "execute_result"
    }
   ],
   "source": [
    "coursera_data_raw = pd.read_csv(\"../data/Coursera_courses.csv\")\n",
    "coursera_data_raw"
   ]
  },
  {
   "attachments": {},
   "cell_type": "markdown",
   "metadata": {},
   "source": [
    "En primer lugar, se realiza una verificación del tipo de datos y la presencia de valores nulos en cada columna. En este caso particular, se observa que los 623 registros del conjunto de datos no contienen valores nulos, lo que indica que no será necesario realizar ningún tratamiento específico para manejar registros faltantes."
   ]
  },
  {
   "cell_type": "code",
   "execution_count": 749,
   "metadata": {},
   "outputs": [
    {
     "name": "stdout",
     "output_type": "stream",
     "text": [
      "<class 'pandas.core.frame.DataFrame'>\n",
      "RangeIndex: 623 entries, 0 to 622\n",
      "Data columns (total 4 columns):\n",
      " #   Column       Non-Null Count  Dtype \n",
      "---  ------       --------------  ----- \n",
      " 0   name         623 non-null    object\n",
      " 1   institution  623 non-null    object\n",
      " 2   course_url   623 non-null    object\n",
      " 3   course_id    623 non-null    object\n",
      "dtypes: object(4)\n",
      "memory usage: 19.6+ KB\n"
     ]
    }
   ],
   "source": [
    "coursera_data_raw.info()"
   ]
  },
  {
   "cell_type": "code",
   "execution_count": 750,
   "metadata": {},
   "outputs": [
    {
     "data": {
      "text/html": [
       "<div>\n",
       "<style scoped>\n",
       "    .dataframe tbody tr th:only-of-type {\n",
       "        vertical-align: middle;\n",
       "    }\n",
       "\n",
       "    .dataframe tbody tr th {\n",
       "        vertical-align: top;\n",
       "    }\n",
       "\n",
       "    .dataframe thead th {\n",
       "        text-align: right;\n",
       "    }\n",
       "</style>\n",
       "<table border=\"1\" class=\"dataframe\">\n",
       "  <thead>\n",
       "    <tr style=\"text-align: right;\">\n",
       "      <th></th>\n",
       "      <th>course_name</th>\n",
       "      <th>institution</th>\n",
       "      <th>course_id</th>\n",
       "    </tr>\n",
       "  </thead>\n",
       "  <tbody>\n",
       "    <tr>\n",
       "      <th>0</th>\n",
       "      <td>Machine Learning</td>\n",
       "      <td>Stanford University</td>\n",
       "      <td>machine-learning</td>\n",
       "    </tr>\n",
       "    <tr>\n",
       "      <th>1</th>\n",
       "      <td>Indigenous Canada</td>\n",
       "      <td>University of Alberta</td>\n",
       "      <td>indigenous-canada</td>\n",
       "    </tr>\n",
       "    <tr>\n",
       "      <th>2</th>\n",
       "      <td>The Science of Well-Being</td>\n",
       "      <td>Yale University</td>\n",
       "      <td>the-science-of-well-being</td>\n",
       "    </tr>\n",
       "    <tr>\n",
       "      <th>3</th>\n",
       "      <td>Technical Support Fundamentals</td>\n",
       "      <td>Google</td>\n",
       "      <td>technical-support-fundamentals</td>\n",
       "    </tr>\n",
       "    <tr>\n",
       "      <th>4</th>\n",
       "      <td>Become a CBRS Certified Professional Installer...</td>\n",
       "      <td>Google - Spectrum Sharing</td>\n",
       "      <td>google-cbrs-cpi-training</td>\n",
       "    </tr>\n",
       "  </tbody>\n",
       "</table>\n",
       "</div>"
      ],
      "text/plain": [
       "                                         course_name  \\\n",
       "0                                   Machine Learning   \n",
       "1                                  Indigenous Canada   \n",
       "2                          The Science of Well-Being   \n",
       "3                     Technical Support Fundamentals   \n",
       "4  Become a CBRS Certified Professional Installer...   \n",
       "\n",
       "                 institution                       course_id  \n",
       "0        Stanford University                machine-learning  \n",
       "1      University of Alberta               indigenous-canada  \n",
       "2            Yale University       the-science-of-well-being  \n",
       "3                     Google  technical-support-fundamentals  \n",
       "4  Google - Spectrum Sharing        google-cbrs-cpi-training  "
      ]
     },
     "execution_count": 750,
     "metadata": {},
     "output_type": "execute_result"
    }
   ],
   "source": [
    "coursera_data = coursera_data_raw[['name', 'institution', 'course_id']]\n",
    "coursera_data.rename(columns={'name': 'course_name'}, inplace=True)\n",
    "coursera_data.head()"
   ]
  },
  {
   "attachments": {},
   "cell_type": "markdown",
   "metadata": {},
   "source": [
    "Llama la atención la cantidad de intituciones que tienen por lo menos un curso en la página de coursera."
   ]
  },
  {
   "cell_type": "code",
   "execution_count": 751,
   "metadata": {},
   "outputs": [
    {
     "data": {
      "text/plain": [
       "134"
      ]
     },
     "execution_count": 751,
     "metadata": {},
     "output_type": "execute_result"
    }
   ],
   "source": [
    "coursera_data['institution'].nunique()"
   ]
  },
  {
   "attachments": {},
   "cell_type": "markdown",
   "metadata": {},
   "source": [
    "Por último, se verifica que no existan registros duplicados en el dataset."
   ]
  },
  {
   "cell_type": "code",
   "execution_count": 752,
   "metadata": {},
   "outputs": [
    {
     "data": {
      "text/plain": [
       "0"
      ]
     },
     "execution_count": 752,
     "metadata": {},
     "output_type": "execute_result"
    }
   ],
   "source": [
    "coursera_data.duplicated().sum()"
   ]
  },
  {
   "cell_type": "code",
   "execution_count": 753,
   "metadata": {},
   "outputs": [
    {
     "data": {
      "text/html": [
       "<div>\n",
       "<style scoped>\n",
       "    .dataframe tbody tr th:only-of-type {\n",
       "        vertical-align: middle;\n",
       "    }\n",
       "\n",
       "    .dataframe tbody tr th {\n",
       "        vertical-align: top;\n",
       "    }\n",
       "\n",
       "    .dataframe thead th {\n",
       "        text-align: right;\n",
       "    }\n",
       "</style>\n",
       "<table border=\"1\" class=\"dataframe\">\n",
       "  <thead>\n",
       "    <tr style=\"text-align: right;\">\n",
       "      <th></th>\n",
       "      <th>reviews</th>\n",
       "      <th>reviewers</th>\n",
       "      <th>date_reviews</th>\n",
       "      <th>rating</th>\n",
       "      <th>course_id</th>\n",
       "    </tr>\n",
       "  </thead>\n",
       "  <tbody>\n",
       "    <tr>\n",
       "      <th>0</th>\n",
       "      <td>Pretty dry, but I was able to pass with just t...</td>\n",
       "      <td>By Robert S</td>\n",
       "      <td>Feb 12, 2020</td>\n",
       "      <td>4</td>\n",
       "      <td>google-cbrs-cpi-training</td>\n",
       "    </tr>\n",
       "    <tr>\n",
       "      <th>1</th>\n",
       "      <td>would be a better experience if the video and ...</td>\n",
       "      <td>By Gabriel E R</td>\n",
       "      <td>Sep 28, 2020</td>\n",
       "      <td>4</td>\n",
       "      <td>google-cbrs-cpi-training</td>\n",
       "    </tr>\n",
       "    <tr>\n",
       "      <th>2</th>\n",
       "      <td>Information was perfect! The program itself wa...</td>\n",
       "      <td>By Jacob D</td>\n",
       "      <td>Apr 08, 2020</td>\n",
       "      <td>4</td>\n",
       "      <td>google-cbrs-cpi-training</td>\n",
       "    </tr>\n",
       "    <tr>\n",
       "      <th>3</th>\n",
       "      <td>A few grammatical mistakes on test made me do ...</td>\n",
       "      <td>By Dale B</td>\n",
       "      <td>Feb 24, 2020</td>\n",
       "      <td>4</td>\n",
       "      <td>google-cbrs-cpi-training</td>\n",
       "    </tr>\n",
       "    <tr>\n",
       "      <th>4</th>\n",
       "      <td>Excellent course and the training provided was...</td>\n",
       "      <td>By Sean G</td>\n",
       "      <td>Jun 18, 2020</td>\n",
       "      <td>4</td>\n",
       "      <td>google-cbrs-cpi-training</td>\n",
       "    </tr>\n",
       "    <tr>\n",
       "      <th>...</th>\n",
       "      <td>...</td>\n",
       "      <td>...</td>\n",
       "      <td>...</td>\n",
       "      <td>...</td>\n",
       "      <td>...</td>\n",
       "    </tr>\n",
       "    <tr>\n",
       "      <th>1454706</th>\n",
       "      <td>g</td>\n",
       "      <td>By Brijesh K</td>\n",
       "      <td>Aug 25, 2020</td>\n",
       "      <td>5</td>\n",
       "      <td>computer-networking</td>\n",
       "    </tr>\n",
       "    <tr>\n",
       "      <th>1454707</th>\n",
       "      <td>.</td>\n",
       "      <td>By Vasavi V M</td>\n",
       "      <td>Jul 02, 2020</td>\n",
       "      <td>5</td>\n",
       "      <td>computer-networking</td>\n",
       "    </tr>\n",
       "    <tr>\n",
       "      <th>1454708</th>\n",
       "      <td>.</td>\n",
       "      <td>By Drishti D</td>\n",
       "      <td>Jun 20, 2020</td>\n",
       "      <td>5</td>\n",
       "      <td>computer-networking</td>\n",
       "    </tr>\n",
       "    <tr>\n",
       "      <th>1454709</th>\n",
       "      <td>.</td>\n",
       "      <td>By FAUSTINE F K</td>\n",
       "      <td>Jun 07, 2020</td>\n",
       "      <td>5</td>\n",
       "      <td>computer-networking</td>\n",
       "    </tr>\n",
       "    <tr>\n",
       "      <th>1454710</th>\n",
       "      <td>G</td>\n",
       "      <td>By Reza S</td>\n",
       "      <td>Aug 12, 2018</td>\n",
       "      <td>5</td>\n",
       "      <td>computer-networking</td>\n",
       "    </tr>\n",
       "  </tbody>\n",
       "</table>\n",
       "<p>1454711 rows × 5 columns</p>\n",
       "</div>"
      ],
      "text/plain": [
       "                                                   reviews        reviewers  \\\n",
       "0        Pretty dry, but I was able to pass with just t...      By Robert S   \n",
       "1        would be a better experience if the video and ...   By Gabriel E R   \n",
       "2        Information was perfect! The program itself wa...       By Jacob D   \n",
       "3        A few grammatical mistakes on test made me do ...        By Dale B   \n",
       "4        Excellent course and the training provided was...        By Sean G   \n",
       "...                                                    ...              ...   \n",
       "1454706                                                  g     By Brijesh K   \n",
       "1454707                                                  .    By Vasavi V M   \n",
       "1454708                                                  .     By Drishti D   \n",
       "1454709                                                  .  By FAUSTINE F K   \n",
       "1454710                                                  G        By Reza S   \n",
       "\n",
       "         date_reviews  rating                 course_id  \n",
       "0        Feb 12, 2020       4  google-cbrs-cpi-training  \n",
       "1        Sep 28, 2020       4  google-cbrs-cpi-training  \n",
       "2        Apr 08, 2020       4  google-cbrs-cpi-training  \n",
       "3        Feb 24, 2020       4  google-cbrs-cpi-training  \n",
       "4        Jun 18, 2020       4  google-cbrs-cpi-training  \n",
       "...               ...     ...                       ...  \n",
       "1454706  Aug 25, 2020       5       computer-networking  \n",
       "1454707  Jul 02, 2020       5       computer-networking  \n",
       "1454708  Jun 20, 2020       5       computer-networking  \n",
       "1454709  Jun 07, 2020       5       computer-networking  \n",
       "1454710  Aug 12, 2018       5       computer-networking  \n",
       "\n",
       "[1454711 rows x 5 columns]"
      ]
     },
     "execution_count": 753,
     "metadata": {},
     "output_type": "execute_result"
    }
   ],
   "source": [
    "coursera_reviews_raw = pd.read_csv(\"../data/Coursera_reviews.csv\")\n",
    "coursera_reviews_raw"
   ]
  },
  {
   "attachments": {},
   "cell_type": "markdown",
   "metadata": {},
   "source": [
    "Al analizar el dataset, se observa que la columna ``reviews`` presenta algunos valores nulos, mientras que las demás columnas no contienen valores nulos. Esta situación es positiva, ya que indica que no será necesario eliminar los registros que no tengan una reseña.\n",
    "\n",
    "El dataframe de reseñas desempeñará un papel importante en la medición de la actividad de los cursos y sus calificaciones. Aunque algunos registros no tengan valores en la columna ``reviews``, aún se podrán utilizar otros atributos y columnas para analizar la actividad y las calificaciones de los cursos. Esto asegura que se pueda realizar un análisis completo y aprovechar al máximo la información disponible en el dataset."
   ]
  },
  {
   "cell_type": "code",
   "execution_count": 754,
   "metadata": {},
   "outputs": [
    {
     "name": "stdout",
     "output_type": "stream",
     "text": [
      "<class 'pandas.core.frame.DataFrame'>\n",
      "RangeIndex: 1454711 entries, 0 to 1454710\n",
      "Data columns (total 5 columns):\n",
      " #   Column        Non-Null Count    Dtype \n",
      "---  ------        --------------    ----- \n",
      " 0   reviews       1454558 non-null  object\n",
      " 1   reviewers     1454711 non-null  object\n",
      " 2   date_reviews  1454711 non-null  object\n",
      " 3   rating        1454711 non-null  int64 \n",
      " 4   course_id     1454711 non-null  object\n",
      "dtypes: int64(1), object(4)\n",
      "memory usage: 55.5+ MB\n"
     ]
    }
   ],
   "source": [
    "coursera_reviews_raw.info()"
   ]
  },
  {
   "attachments": {},
   "cell_type": "markdown",
   "metadata": {},
   "source": [
    "Con respecto al tipo de datos de cada columna, se observa que todas las columnas tienen un formato adecuado, excepto la columna ``date_reviews``. Para asegurar una manipulación y análisis preciso de los datos, será necesario realizar el proceso correspondiente para convertir esta columna en un tipo de datos datetime. Esto permitirá trabajar con las fechas de manera eficiente y facilitará futuros cálculos, filtrados y visualizaciones relacionados con las fechas de las reseñas."
   ]
  },
  {
   "attachments": {},
   "cell_type": "markdown",
   "metadata": {},
   "source": [
    "Continuando con la verificación de registros duplicados, se ha identificado una cifra alarmante de 934,764 registros duplicados en el dataset. Esto representa aproximadamente el 64% de los datos totales. La presencia de una cantidad tan significativa de registros duplicados puede tener un impacto negativo en el análisis de datos, ya que puede generar sesgos y distorsiones en los resultados obtenidos."
   ]
  },
  {
   "cell_type": "code",
   "execution_count": 755,
   "metadata": {},
   "outputs": [
    {
     "data": {
      "text/plain": [
       "934764"
      ]
     },
     "execution_count": 755,
     "metadata": {},
     "output_type": "execute_result"
    }
   ],
   "source": [
    "coursera_reviews_raw.duplicated().sum()"
   ]
  },
  {
   "attachments": {},
   "cell_type": "markdown",
   "metadata": {},
   "source": [
    "Para simplificar el análisis y enfocarnos en los aspectos relevantes, se tomó la decisión de no utilizar el nombre de los usuarios (``reviewers``) en este análisis. Dado que no es una variable que aporte información significativa o relevante para los objetivos específicos del análisis, se considera apropiado desestimarla."
   ]
  },
  {
   "attachments": {},
   "cell_type": "markdown",
   "metadata": {},
   "source": [
    "Además, se procede a eliminar los registros duplicados del dataset para garantizar la integridad y la calidad de los datos. Al eliminar los registros duplicados, se asegura que cada entrada en el dataset sea única y represente información única y válida para su posterior análisis."
   ]
  },
  {
   "cell_type": "code",
   "execution_count": 756,
   "metadata": {},
   "outputs": [
    {
     "data": {
      "text/plain": [
       "519461"
      ]
     },
     "execution_count": 756,
     "metadata": {},
     "output_type": "execute_result"
    }
   ],
   "source": [
    "coursera_reviews = coursera_reviews_raw.drop(['reviewers'], axis=1)\n",
    "coursera_reviews = coursera_reviews.drop_duplicates()\n",
    "coursera_reviews.shape[0]"
   ]
  },
  {
   "attachments": {},
   "cell_type": "markdown",
   "metadata": {},
   "source": [
    "Con respecto a la columna ``date_reviews``, anteriormente se mencionó que no se encontraba en el formato adecuado. Para corregir esto y asegurar un manejo preciso de las fechas, se procedió a convertir esta columna al tipo de dato datetime."
   ]
  },
  {
   "cell_type": "code",
   "execution_count": 757,
   "metadata": {},
   "outputs": [
    {
     "data": {
      "text/html": [
       "<div>\n",
       "<style scoped>\n",
       "    .dataframe tbody tr th:only-of-type {\n",
       "        vertical-align: middle;\n",
       "    }\n",
       "\n",
       "    .dataframe tbody tr th {\n",
       "        vertical-align: top;\n",
       "    }\n",
       "\n",
       "    .dataframe thead th {\n",
       "        text-align: right;\n",
       "    }\n",
       "</style>\n",
       "<table border=\"1\" class=\"dataframe\">\n",
       "  <thead>\n",
       "    <tr style=\"text-align: right;\">\n",
       "      <th></th>\n",
       "      <th>reviews</th>\n",
       "      <th>date_reviews</th>\n",
       "      <th>rating</th>\n",
       "      <th>course_id</th>\n",
       "    </tr>\n",
       "  </thead>\n",
       "  <tbody>\n",
       "    <tr>\n",
       "      <th>0</th>\n",
       "      <td>Pretty dry, but I was able to pass with just t...</td>\n",
       "      <td>2020-02-12</td>\n",
       "      <td>4</td>\n",
       "      <td>google-cbrs-cpi-training</td>\n",
       "    </tr>\n",
       "    <tr>\n",
       "      <th>1</th>\n",
       "      <td>would be a better experience if the video and ...</td>\n",
       "      <td>2020-09-28</td>\n",
       "      <td>4</td>\n",
       "      <td>google-cbrs-cpi-training</td>\n",
       "    </tr>\n",
       "    <tr>\n",
       "      <th>2</th>\n",
       "      <td>Information was perfect! The program itself wa...</td>\n",
       "      <td>2020-04-08</td>\n",
       "      <td>4</td>\n",
       "      <td>google-cbrs-cpi-training</td>\n",
       "    </tr>\n",
       "  </tbody>\n",
       "</table>\n",
       "</div>"
      ],
      "text/plain": [
       "                                             reviews date_reviews  rating  \\\n",
       "0  Pretty dry, but I was able to pass with just t...   2020-02-12       4   \n",
       "1  would be a better experience if the video and ...   2020-09-28       4   \n",
       "2  Information was perfect! The program itself wa...   2020-04-08       4   \n",
       "\n",
       "                  course_id  \n",
       "0  google-cbrs-cpi-training  \n",
       "1  google-cbrs-cpi-training  \n",
       "2  google-cbrs-cpi-training  "
      ]
     },
     "execution_count": 757,
     "metadata": {},
     "output_type": "execute_result"
    }
   ],
   "source": [
    "coursera_reviews['date_reviews'] = pd.to_datetime(coursera_reviews['date_reviews'], format=\"%b %d, %Y\")\n",
    "coursera_reviews.head(3)"
   ]
  },
  {
   "cell_type": "code",
   "execution_count": 758,
   "metadata": {},
   "outputs": [
    {
     "name": "stdout",
     "output_type": "stream",
     "text": [
      "<class 'pandas.core.frame.DataFrame'>\n",
      "Index: 519461 entries, 0 to 1454644\n",
      "Data columns (total 4 columns):\n",
      " #   Column        Non-Null Count   Dtype         \n",
      "---  ------        --------------   -----         \n",
      " 0   reviews       519400 non-null  object        \n",
      " 1   date_reviews  519461 non-null  datetime64[ns]\n",
      " 2   rating        519461 non-null  int64         \n",
      " 3   course_id     519461 non-null  object        \n",
      "dtypes: datetime64[ns](1), int64(1), object(2)\n",
      "memory usage: 19.8+ MB\n"
     ]
    }
   ],
   "source": [
    "coursera_reviews.info()"
   ]
  },
  {
   "attachments": {},
   "cell_type": "markdown",
   "metadata": {},
   "source": [
    "## edX"
   ]
  },
  {
   "cell_type": "code",
   "execution_count": 759,
   "metadata": {},
   "outputs": [
    {
     "data": {
      "text/html": [
       "<div>\n",
       "<style scoped>\n",
       "    .dataframe tbody tr th:only-of-type {\n",
       "        vertical-align: middle;\n",
       "    }\n",
       "\n",
       "    .dataframe tbody tr th {\n",
       "        vertical-align: top;\n",
       "    }\n",
       "\n",
       "    .dataframe thead th {\n",
       "        text-align: right;\n",
       "    }\n",
       "</style>\n",
       "<table border=\"1\" class=\"dataframe\">\n",
       "  <thead>\n",
       "    <tr style=\"text-align: right;\">\n",
       "      <th></th>\n",
       "      <th>title</th>\n",
       "      <th>summary</th>\n",
       "      <th>n_enrolled</th>\n",
       "      <th>course_type</th>\n",
       "      <th>institution</th>\n",
       "      <th>instructors</th>\n",
       "      <th>Level</th>\n",
       "      <th>subject</th>\n",
       "      <th>language</th>\n",
       "      <th>subtitles</th>\n",
       "      <th>course_effort</th>\n",
       "      <th>course_length</th>\n",
       "      <th>price</th>\n",
       "      <th>course_description</th>\n",
       "      <th>course_syllabus</th>\n",
       "      <th>course_url</th>\n",
       "    </tr>\n",
       "  </thead>\n",
       "  <tbody>\n",
       "    <tr>\n",
       "      <th>0</th>\n",
       "      <td>How to Learn Online</td>\n",
       "      <td>Learn essential strategies for successful onli...</td>\n",
       "      <td>124,980</td>\n",
       "      <td>Self-paced on your time</td>\n",
       "      <td>edX</td>\n",
       "      <td>Nina Huntemann-Robyn Belair-Ben Piscopo</td>\n",
       "      <td>Introductory</td>\n",
       "      <td>Education &amp; Teacher Training</td>\n",
       "      <td>English</td>\n",
       "      <td>English</td>\n",
       "      <td>2–3 hours per week</td>\n",
       "      <td>2 Weeks</td>\n",
       "      <td>FREE-Add a Verified Certificate for $49 USD</td>\n",
       "      <td>Designed for those who are new to elearning, t...</td>\n",
       "      <td>Welcome - We start with opportunities to meet ...</td>\n",
       "      <td>https://www.edx.org/course/how-to-learn-online</td>\n",
       "    </tr>\n",
       "    <tr>\n",
       "      <th>1</th>\n",
       "      <td>Programming for Everybody (Getting Started wit...</td>\n",
       "      <td>This course is a \"no prerequisite\" introductio...</td>\n",
       "      <td>293,864</td>\n",
       "      <td>Self-paced on your time</td>\n",
       "      <td>The University of Michigan</td>\n",
       "      <td>Charles Severance</td>\n",
       "      <td>Introductory</td>\n",
       "      <td>Computer Science</td>\n",
       "      <td>English</td>\n",
       "      <td>English</td>\n",
       "      <td>2–4 hours per week</td>\n",
       "      <td>7 Weeks</td>\n",
       "      <td>FREE-Add a Verified Certificate for $49 USD</td>\n",
       "      <td>This course aims to teach everyone the basics ...</td>\n",
       "      <td>NaN</td>\n",
       "      <td>https://www.edx.org/course/programming-for-eve...</td>\n",
       "    </tr>\n",
       "    <tr>\n",
       "      <th>2</th>\n",
       "      <td>CS50's Introduction to Computer Science</td>\n",
       "      <td>An introduction to the intellectual enterprise...</td>\n",
       "      <td>2,442,271</td>\n",
       "      <td>Self-paced on your time</td>\n",
       "      <td>Harvard University</td>\n",
       "      <td>David J. Malan-Doug Lloyd-Brian Yu</td>\n",
       "      <td>Introductory</td>\n",
       "      <td>Computer Science</td>\n",
       "      <td>English</td>\n",
       "      <td>English</td>\n",
       "      <td>6–18 hours per week</td>\n",
       "      <td>12 Weeks</td>\n",
       "      <td>FREE-Add a Verified Certificate for $90 USD</td>\n",
       "      <td>This is CS50x , Harvard University's introduct...</td>\n",
       "      <td>NaN</td>\n",
       "      <td>https://www.edx.org/course/cs50s-introduction-...</td>\n",
       "    </tr>\n",
       "    <tr>\n",
       "      <th>3</th>\n",
       "      <td>The Analytics Edge</td>\n",
       "      <td>Through inspiring examples and stories, discov...</td>\n",
       "      <td>129,555</td>\n",
       "      <td>Instructor-led on a course schedule</td>\n",
       "      <td>Massachusetts Institute of Technology</td>\n",
       "      <td>Dimitris Bertsimas-Allison O'Hair-John Silberh...</td>\n",
       "      <td>Intermediate</td>\n",
       "      <td>Data Analysis &amp; Statistics</td>\n",
       "      <td>English</td>\n",
       "      <td>English</td>\n",
       "      <td>10–15 hours per week</td>\n",
       "      <td>13 Weeks</td>\n",
       "      <td>FREE-Add a Verified Certificate for $199 USD</td>\n",
       "      <td>In the last decade, the amount of data availab...</td>\n",
       "      <td>NaN</td>\n",
       "      <td>https://www.edx.org/course/the-analytics-edge</td>\n",
       "    </tr>\n",
       "    <tr>\n",
       "      <th>4</th>\n",
       "      <td>Marketing Analytics: Marketing Measurement Str...</td>\n",
       "      <td>This course is part of a MicroMasters® Program</td>\n",
       "      <td>81,140</td>\n",
       "      <td>Self-paced on your time</td>\n",
       "      <td>University of California, Berkeley</td>\n",
       "      <td>Stephan Sorger</td>\n",
       "      <td>Introductory</td>\n",
       "      <td>Computer Science</td>\n",
       "      <td>English</td>\n",
       "      <td>English</td>\n",
       "      <td>5–7 hours per week</td>\n",
       "      <td>4 Weeks</td>\n",
       "      <td>FREE-Add a Verified Certificate for $249 USD</td>\n",
       "      <td>Begin your journey in a new career in marketin...</td>\n",
       "      <td>NaN</td>\n",
       "      <td>https://www.edx.org/course/marketing-analytics...</td>\n",
       "    </tr>\n",
       "    <tr>\n",
       "      <th>...</th>\n",
       "      <td>...</td>\n",
       "      <td>...</td>\n",
       "      <td>...</td>\n",
       "      <td>...</td>\n",
       "      <td>...</td>\n",
       "      <td>...</td>\n",
       "      <td>...</td>\n",
       "      <td>...</td>\n",
       "      <td>...</td>\n",
       "      <td>...</td>\n",
       "      <td>...</td>\n",
       "      <td>...</td>\n",
       "      <td>...</td>\n",
       "      <td>...</td>\n",
       "      <td>...</td>\n",
       "      <td>...</td>\n",
       "    </tr>\n",
       "    <tr>\n",
       "      <th>970</th>\n",
       "      <td>Leaders in Citizen Security and Justice Manage...</td>\n",
       "      <td>Learn about the latest in prevention, police a...</td>\n",
       "      <td>NaN</td>\n",
       "      <td>Self-paced on your time</td>\n",
       "      <td>Inter-American Development Bank</td>\n",
       "      <td>Olga Espinoza-Eduardo Pazinato-Alejandra Mera-...</td>\n",
       "      <td>Intermediate</td>\n",
       "      <td>Social Sciences</td>\n",
       "      <td>English</td>\n",
       "      <td>English</td>\n",
       "      <td>4–5 hours per week</td>\n",
       "      <td>10 Weeks</td>\n",
       "      <td>FREE-Add a Verified Certificate for $25 USD</td>\n",
       "      <td>The high rates of crime and violence are two o...</td>\n",
       "      <td>NaN</td>\n",
       "      <td>https://www.edx.org/course/leaders-in-citizen-...</td>\n",
       "    </tr>\n",
       "    <tr>\n",
       "      <th>971</th>\n",
       "      <td>Pattern Studying and Making | 图案审美与创作</td>\n",
       "      <td>Fantastic experiences in beauty and its repres...</td>\n",
       "      <td>NaN</td>\n",
       "      <td>Self-paced on your time</td>\n",
       "      <td>Tsinghua University</td>\n",
       "      <td>Yuehua Nie</td>\n",
       "      <td>Introductory</td>\n",
       "      <td>Art &amp; Culture</td>\n",
       "      <td>中文</td>\n",
       "      <td>English, 中文</td>\n",
       "      <td>3–5 hours per week</td>\n",
       "      <td>12 Weeks</td>\n",
       "      <td>FREE-Add a Verified Certificate for $139 USD</td>\n",
       "      <td>Are you an original designer? Or a DIY fancier...</td>\n",
       "      <td>NaN</td>\n",
       "      <td>https://www.edx.org/course/pattern-studying-an...</td>\n",
       "    </tr>\n",
       "    <tr>\n",
       "      <th>972</th>\n",
       "      <td>Computational Neuroscience: Neuronal Dynamics ...</td>\n",
       "      <td>This course explains the mathematical and comp...</td>\n",
       "      <td>11,246</td>\n",
       "      <td>Self-paced on your time</td>\n",
       "      <td>École polytechnique fédérale de Lausanne</td>\n",
       "      <td>Wulfram Gerstner</td>\n",
       "      <td>Advanced</td>\n",
       "      <td>Biology &amp; Life Sciences</td>\n",
       "      <td>English</td>\n",
       "      <td>English</td>\n",
       "      <td>4–6 hours per week</td>\n",
       "      <td>6 Weeks</td>\n",
       "      <td>FREE-Add a Verified Certificate for $139 USD</td>\n",
       "      <td>What happens in your brain when you make a dec...</td>\n",
       "      <td>Textbook: Neuronal Dynamics - from single neur...</td>\n",
       "      <td>https://www.edx.org/course/computational-neuro...</td>\n",
       "    </tr>\n",
       "    <tr>\n",
       "      <th>973</th>\n",
       "      <td>Cities and the Challenge of Sustainable Develo...</td>\n",
       "      <td>What is a sustainable city? Learn the basics h...</td>\n",
       "      <td>8,775</td>\n",
       "      <td>Self-paced on your time</td>\n",
       "      <td>SDG Academy</td>\n",
       "      <td>Jeffrey D. Sachs</td>\n",
       "      <td>Introductory</td>\n",
       "      <td>Environmental Studies</td>\n",
       "      <td>English</td>\n",
       "      <td>English</td>\n",
       "      <td>1–2 hours per week</td>\n",
       "      <td>1 Weeks</td>\n",
       "      <td>FREE-Add a Verified Certificate for $25 USD</td>\n",
       "      <td>According to the United Nations, urbanization ...</td>\n",
       "      <td>Module 1: Introduction to the SDGsProfessor Je...</td>\n",
       "      <td>https://www.edx.org/course/cities-and-the-chal...</td>\n",
       "    </tr>\n",
       "    <tr>\n",
       "      <th>974</th>\n",
       "      <td>MathTrackX: Special Functions</td>\n",
       "      <td>Understand trigonometric, exponential and loga...</td>\n",
       "      <td>NaN</td>\n",
       "      <td>Self-paced on your time</td>\n",
       "      <td>University of Adelaide</td>\n",
       "      <td>Dr David Butler</td>\n",
       "      <td>Introductory</td>\n",
       "      <td>Math</td>\n",
       "      <td>English</td>\n",
       "      <td>English</td>\n",
       "      <td>3–6 hours per week</td>\n",
       "      <td>4 Weeks</td>\n",
       "      <td>FREE-Add a Verified Certificate for $79 USD</td>\n",
       "      <td>This course is part two of the MathTrackX XSer...</td>\n",
       "      <td>NaN</td>\n",
       "      <td>https://www.edx.org/course/mathtrackx-special-...</td>\n",
       "    </tr>\n",
       "  </tbody>\n",
       "</table>\n",
       "<p>975 rows × 16 columns</p>\n",
       "</div>"
      ],
      "text/plain": [
       "                                                 title  \\\n",
       "0                                  How to Learn Online   \n",
       "1    Programming for Everybody (Getting Started wit...   \n",
       "2              CS50's Introduction to Computer Science   \n",
       "3                                   The Analytics Edge   \n",
       "4    Marketing Analytics: Marketing Measurement Str...   \n",
       "..                                                 ...   \n",
       "970  Leaders in Citizen Security and Justice Manage...   \n",
       "971              Pattern Studying and Making | 图案审美与创作   \n",
       "972  Computational Neuroscience: Neuronal Dynamics ...   \n",
       "973  Cities and the Challenge of Sustainable Develo...   \n",
       "974                      MathTrackX: Special Functions   \n",
       "\n",
       "                                               summary n_enrolled  \\\n",
       "0    Learn essential strategies for successful onli...    124,980   \n",
       "1    This course is a \"no prerequisite\" introductio...    293,864   \n",
       "2    An introduction to the intellectual enterprise...  2,442,271   \n",
       "3    Through inspiring examples and stories, discov...    129,555   \n",
       "4       This course is part of a MicroMasters® Program     81,140   \n",
       "..                                                 ...        ...   \n",
       "970  Learn about the latest in prevention, police a...        NaN   \n",
       "971  Fantastic experiences in beauty and its repres...        NaN   \n",
       "972  This course explains the mathematical and comp...     11,246   \n",
       "973  What is a sustainable city? Learn the basics h...      8,775   \n",
       "974  Understand trigonometric, exponential and loga...        NaN   \n",
       "\n",
       "                             course_type  \\\n",
       "0                Self-paced on your time   \n",
       "1                Self-paced on your time   \n",
       "2                Self-paced on your time   \n",
       "3    Instructor-led on a course schedule   \n",
       "4                Self-paced on your time   \n",
       "..                                   ...   \n",
       "970              Self-paced on your time   \n",
       "971              Self-paced on your time   \n",
       "972              Self-paced on your time   \n",
       "973              Self-paced on your time   \n",
       "974              Self-paced on your time   \n",
       "\n",
       "                                  institution  \\\n",
       "0                                         edX   \n",
       "1                  The University of Michigan   \n",
       "2                          Harvard University   \n",
       "3       Massachusetts Institute of Technology   \n",
       "4          University of California, Berkeley   \n",
       "..                                        ...   \n",
       "970           Inter-American Development Bank   \n",
       "971                       Tsinghua University   \n",
       "972  École polytechnique fédérale de Lausanne   \n",
       "973                               SDG Academy   \n",
       "974                    University of Adelaide   \n",
       "\n",
       "                                           instructors         Level  \\\n",
       "0              Nina Huntemann-Robyn Belair-Ben Piscopo  Introductory   \n",
       "1                                    Charles Severance  Introductory   \n",
       "2                   David J. Malan-Doug Lloyd-Brian Yu  Introductory   \n",
       "3    Dimitris Bertsimas-Allison O'Hair-John Silberh...  Intermediate   \n",
       "4                                       Stephan Sorger  Introductory   \n",
       "..                                                 ...           ...   \n",
       "970  Olga Espinoza-Eduardo Pazinato-Alejandra Mera-...  Intermediate   \n",
       "971                                         Yuehua Nie  Introductory   \n",
       "972                                   Wulfram Gerstner      Advanced   \n",
       "973                                   Jeffrey D. Sachs  Introductory   \n",
       "974                                    Dr David Butler  Introductory   \n",
       "\n",
       "                          subject language    subtitles         course_effort  \\\n",
       "0    Education & Teacher Training  English      English    2–3 hours per week   \n",
       "1                Computer Science  English      English    2–4 hours per week   \n",
       "2                Computer Science  English      English   6–18 hours per week   \n",
       "3      Data Analysis & Statistics  English      English  10–15 hours per week   \n",
       "4                Computer Science  English      English    5–7 hours per week   \n",
       "..                            ...      ...          ...                   ...   \n",
       "970               Social Sciences  English      English    4–5 hours per week   \n",
       "971                 Art & Culture       中文  English, 中文    3–5 hours per week   \n",
       "972       Biology & Life Sciences  English      English    4–6 hours per week   \n",
       "973         Environmental Studies  English      English    1–2 hours per week   \n",
       "974                          Math  English      English    3–6 hours per week   \n",
       "\n",
       "    course_length                                         price  \\\n",
       "0         2 Weeks   FREE-Add a Verified Certificate for $49 USD   \n",
       "1         7 Weeks   FREE-Add a Verified Certificate for $49 USD   \n",
       "2        12 Weeks   FREE-Add a Verified Certificate for $90 USD   \n",
       "3        13 Weeks  FREE-Add a Verified Certificate for $199 USD   \n",
       "4         4 Weeks  FREE-Add a Verified Certificate for $249 USD   \n",
       "..            ...                                           ...   \n",
       "970      10 Weeks   FREE-Add a Verified Certificate for $25 USD   \n",
       "971      12 Weeks  FREE-Add a Verified Certificate for $139 USD   \n",
       "972       6 Weeks  FREE-Add a Verified Certificate for $139 USD   \n",
       "973       1 Weeks   FREE-Add a Verified Certificate for $25 USD   \n",
       "974       4 Weeks   FREE-Add a Verified Certificate for $79 USD   \n",
       "\n",
       "                                    course_description  \\\n",
       "0    Designed for those who are new to elearning, t...   \n",
       "1    This course aims to teach everyone the basics ...   \n",
       "2    This is CS50x , Harvard University's introduct...   \n",
       "3    In the last decade, the amount of data availab...   \n",
       "4    Begin your journey in a new career in marketin...   \n",
       "..                                                 ...   \n",
       "970  The high rates of crime and violence are two o...   \n",
       "971  Are you an original designer? Or a DIY fancier...   \n",
       "972  What happens in your brain when you make a dec...   \n",
       "973  According to the United Nations, urbanization ...   \n",
       "974  This course is part two of the MathTrackX XSer...   \n",
       "\n",
       "                                       course_syllabus  \\\n",
       "0    Welcome - We start with opportunities to meet ...   \n",
       "1                                                  NaN   \n",
       "2                                                  NaN   \n",
       "3                                                  NaN   \n",
       "4                                                  NaN   \n",
       "..                                                 ...   \n",
       "970                                                NaN   \n",
       "971                                                NaN   \n",
       "972  Textbook: Neuronal Dynamics - from single neur...   \n",
       "973  Module 1: Introduction to the SDGsProfessor Je...   \n",
       "974                                                NaN   \n",
       "\n",
       "                                            course_url  \n",
       "0       https://www.edx.org/course/how-to-learn-online  \n",
       "1    https://www.edx.org/course/programming-for-eve...  \n",
       "2    https://www.edx.org/course/cs50s-introduction-...  \n",
       "3        https://www.edx.org/course/the-analytics-edge  \n",
       "4    https://www.edx.org/course/marketing-analytics...  \n",
       "..                                                 ...  \n",
       "970  https://www.edx.org/course/leaders-in-citizen-...  \n",
       "971  https://www.edx.org/course/pattern-studying-an...  \n",
       "972  https://www.edx.org/course/computational-neuro...  \n",
       "973  https://www.edx.org/course/cities-and-the-chal...  \n",
       "974  https://www.edx.org/course/mathtrackx-special-...  \n",
       "\n",
       "[975 rows x 16 columns]"
      ]
     },
     "execution_count": 759,
     "metadata": {},
     "output_type": "execute_result"
    }
   ],
   "source": [
    "edx_data_raw = pd.read_csv(\"../data/edx_courses.csv\")\n",
    "edx_data_raw"
   ]
  },
  {
   "attachments": {},
   "cell_type": "markdown",
   "metadata": {},
   "source": []
  },
  {
   "cell_type": "code",
   "execution_count": 760,
   "metadata": {},
   "outputs": [
    {
     "name": "stdout",
     "output_type": "stream",
     "text": [
      "<class 'pandas.core.frame.DataFrame'>\n",
      "RangeIndex: 975 entries, 0 to 974\n",
      "Data columns (total 16 columns):\n",
      " #   Column              Non-Null Count  Dtype \n",
      "---  ------              --------------  ----- \n",
      " 0   title               975 non-null    object\n",
      " 1   summary             922 non-null    object\n",
      " 2   n_enrolled          855 non-null    object\n",
      " 3   course_type         975 non-null    object\n",
      " 4   institution         975 non-null    object\n",
      " 5   instructors         972 non-null    object\n",
      " 6   Level               975 non-null    object\n",
      " 7   subject             975 non-null    object\n",
      " 8   language            975 non-null    object\n",
      " 9   subtitles           972 non-null    object\n",
      " 10  course_effort       975 non-null    object\n",
      " 11  course_length       975 non-null    object\n",
      " 12  price               975 non-null    object\n",
      " 13  course_description  935 non-null    object\n",
      " 14  course_syllabus     414 non-null    object\n",
      " 15  course_url          975 non-null    object\n",
      "dtypes: object(16)\n",
      "memory usage: 122.0+ KB\n"
     ]
    }
   ],
   "source": [
    "edx_data_raw.info()"
   ]
  },
  {
   "attachments": {},
   "cell_type": "markdown",
   "metadata": {},
   "source": [
    "En el dataset de edX, todas las columnas son de tipo string y algunas contienen valores nulos. Al igual que en el dataset anterior, los valores nulos en la mayoría de las columnas no tienen una relevancia significativa para el análisis. Sin embargo, es importante destacar que la columna ``n_enrolled``, que indica la cantidad de estudiantes inscritos en los cursos, puede verse afectada por esta condición de valores nulos. Por lo tanto, se debe tener precaución al analizar y utilizar la información de esta columna en el análisis, ya que los valores nulos podrían afectar la precisión de los resultados relacionados con la cantidad de estudiantes inscritos en los cursos de edX."
   ]
  },
  {
   "cell_type": "code",
   "execution_count": 761,
   "metadata": {},
   "outputs": [
    {
     "data": {
      "text/plain": [
       "1"
      ]
     },
     "execution_count": 761,
     "metadata": {},
     "output_type": "execute_result"
    }
   ],
   "source": [
    "edx_data_raw.duplicated().sum()"
   ]
  },
  {
   "cell_type": "code",
   "execution_count": 762,
   "metadata": {},
   "outputs": [
    {
     "data": {
      "text/plain": [
       "title                   0\n",
       "summary                53\n",
       "n_enrolled            120\n",
       "course_type             0\n",
       "institution             0\n",
       "instructors             3\n",
       "Level                   0\n",
       "subject                 0\n",
       "language                0\n",
       "subtitles               3\n",
       "course_effort           0\n",
       "course_length           0\n",
       "price                   0\n",
       "course_description     40\n",
       "course_syllabus       561\n",
       "course_url              0\n",
       "dtype: int64"
      ]
     },
     "execution_count": 762,
     "metadata": {},
     "output_type": "execute_result"
    }
   ],
   "source": [
    "edx_data_raw.isna().sum()"
   ]
  },
  {
   "attachments": {},
   "cell_type": "markdown",
   "metadata": {},
   "source": [
    "Durante la revisión del dataset, se identificó que algunas columnas no son relevantes para el análisis, como ``course_description`` y ``course_url``. Estas columnas no aportan información directamente relacionada con los aspectos que se desean analizar, por lo que se ha decidido excluirlas del análisis.\n",
    "\n",
    "Además, se observó que la columna ``course_syllabus`` contiene una cantidad considerable de valores nulos, lo que dificulta su uso en el análisis. Por lo tanto, se optó por utilizar únicamente la columna ``summary`` para obtener información sobre los cursos.\n",
    "\n",
    "Esta selección de columnas más relevantes, como ``summary``, permitirá concentrarse en los aspectos clave de los cursos y obtener una visión más precisa y concisa de la información necesaria para el análisis."
   ]
  },
  {
   "cell_type": "code",
   "execution_count": 763,
   "metadata": {},
   "outputs": [],
   "source": [
    "edx_data = edx_data_raw.drop(['course_description', 'course_syllabus', 'course_url'], axis=1)"
   ]
  },
  {
   "attachments": {},
   "cell_type": "markdown",
   "metadata": {},
   "source": [
    "Se procede a eliminar el uSe identificó la presencia de un único registro duplicado en el dataset y, por lo tanto, se procedió a eliminarlo.nico registro duplicado que se encontró en el dataset."
   ]
  },
  {
   "cell_type": "code",
   "execution_count": 765,
   "metadata": {},
   "outputs": [
    {
     "data": {
      "text/plain": [
       "974"
      ]
     },
     "execution_count": 765,
     "metadata": {},
     "output_type": "execute_result"
    }
   ],
   "source": [
    "edx_data = edx_data.drop_duplicates()\n",
    "edx_data.shape[0]"
   ]
  },
  {
   "attachments": {},
   "cell_type": "markdown",
   "metadata": {},
   "source": [
    "Con el objetivo de verificar si los valores en la columna ``course_length`` están expresados en la misma unidad de medida, específicamente en semanas, se optó por buscar los valores únicos en esta columna. Dado que el tamaño del dataset es relativamente pequeño, esta búsqueda se realizará para determinar si existe alguna variabilidad en las unidades de medida utilizadas para representar la duración de los cursos."
   ]
  },
  {
   "cell_type": "code",
   "execution_count": 766,
   "metadata": {},
   "outputs": [
    {
     "data": {
      "text/plain": [
       "array(['2 Weeks', '7 Weeks', '12 Weeks', '13 Weeks', '4 Weeks', '6 Weeks',\n",
       "       '10 Weeks', '8 Weeks', '5 Weeks', '16 Weeks', '15 Weeks',\n",
       "       '1 Weeks', '11 Weeks', '14 Weeks', '9 Weeks', '3 Weeks',\n",
       "       '18 Weeks', '17 Weeks'], dtype=object)"
      ]
     },
     "execution_count": 766,
     "metadata": {},
     "output_type": "execute_result"
    }
   ],
   "source": [
    "edx_data['course_length'].unique()"
   ]
  },
  {
   "cell_type": "code",
   "execution_count": 767,
   "metadata": {},
   "outputs": [],
   "source": [
    "edx_data['course_length'] = edx_data['course_length'].apply(lambda x: int(x.split()[0]))\n",
    "edx_data['n_enrolled'] =  edx_data['n_enrolled'].str.replace(',', '')\n",
    "edx_data['n_enrolled'] =  edx_data['n_enrolled'].fillna('0')\n",
    "edx_data['n_enrolled'] =  edx_data['n_enrolled'].apply(lambda x: int(x))\n"
   ]
  },
  {
   "cell_type": "code",
   "execution_count": 768,
   "metadata": {},
   "outputs": [
    {
     "data": {
      "text/plain": [
       "array(['FREE-Add a Verified Certificate for $49 USD',\n",
       "       'FREE-Add a Verified Certificate for $90 USD',\n",
       "       'FREE-Add a Verified Certificate for $199 USD',\n",
       "       'FREE-Add a Verified Certificate for $249 USD',\n",
       "       'FREE-Add a Verified Certificate for $5 USD',\n",
       "       'FREE-Add a Verified Certificate for $99 USD',\n",
       "       'FREE-Add a Verified Certificate for $39 USD',\n",
       "       'FREE-Add a Verified Certificate for $399 USD',\n",
       "       'FREE-Add a Verified Certificate for $149 USD',\n",
       "       'FREE-Add a Verified Certificate for $125 USD',\n",
       "       'FREE-Add a Verified Certificate for $40 USD',\n",
       "       'FREE-Add a Verified Certificate for $25 USD',\n",
       "       'FREE-Add a Verified Certificate for $50 USD',\n",
       "       'FREE-Add a Verified Certificate for $169 USD',\n",
       "       'FREE-Add a Verified Certificate for $70 USD',\n",
       "       'FREE-Add a Verified Certificate for $79 USD',\n",
       "       'FREE-Add a Verified Certificate for $150 USD',\n",
       "       'FREE-Add a Verified Certificate for $69 USD',\n",
       "       'FREE-Add a Verified Certificate for $200 USD',\n",
       "       'FREE-Add a Verified Certificate for $225 USD',\n",
       "       'FREE-Add a Verified Certificate for $75 USD',\n",
       "       'FREE-Add a Verified Certificate for $300 USD',\n",
       "       'FREE-Add a Verified Certificate for $139 USD',\n",
       "       'FREE-Add a Verified Certificate for $350 USD',\n",
       "       'FREE-Add a Verified Certificate for $19 USD',\n",
       "       'FREE-Add a Verified Certificate for $100 USD',\n",
       "       'FREE-Add a Verified Certificate for $450 USD',\n",
       "       'FREE-Add a Verified Certificate for $119 USD',\n",
       "       'FREE-Add a Verified Certificate for $60 USD',\n",
       "       'FREE-Add a Verified Certificate for $299 USD',\n",
       "       'FREE-Add a Verified Certificate for $29 USD',\n",
       "       'FREE-Add a Verified Certificate for $65 USD',\n",
       "       'FREE-Add a Verified Certificate for $15 USD',\n",
       "       'FREE-Add a Verified Certificate for $214 USD',\n",
       "       'FREE-Add a Verified Certificate for $10 USD',\n",
       "       'FREE-Add a Verified Certificate for $49.99 USD',\n",
       "       'FREE-Add a Verified Certificate for $129 USD',\n",
       "       'FREE-Add a Verified Certificate for $59 USD',\n",
       "       'FREE-Add a Verified Certificate for $299.70 USD',\n",
       "       'FREE-Add a Verified Certificate for $179 USD',\n",
       "       'FREE-Add a Verified Certificate for $250 USD',\n",
       "       'FREE-Add a Verified Certificate for $399.60 USD',\n",
       "       'FREE-Add a Verified Certificate for $159 USD',\n",
       "       'FREE-Add a Verified Certificate for $375 USD',\n",
       "       'FREE-Add a Verified Certificate for $166 USD',\n",
       "       'FREE-Add a Verified Certificate for $49.90 USD',\n",
       "       'FREE-Add a Verified Certificate for $30 USD'], dtype=object)"
      ]
     },
     "execution_count": 768,
     "metadata": {},
     "output_type": "execute_result"
    }
   ],
   "source": [
    "edx_data['price'].unique()"
   ]
  },
  {
   "cell_type": "code",
   "execution_count": 769,
   "metadata": {},
   "outputs": [],
   "source": [
    "edx_data['verified_certificate_price'] = edx_data['price'].apply(lambda x: float(x.split('$')[1].split()[0]))\n",
    "edx_data['price'] = edx_data['price'].apply(lambda x: x.split('-')[0].capitalize())"
   ]
  },
  {
   "cell_type": "code",
   "execution_count": 770,
   "metadata": {},
   "outputs": [
    {
     "data": {
      "text/html": [
       "<div>\n",
       "<style scoped>\n",
       "    .dataframe tbody tr th:only-of-type {\n",
       "        vertical-align: middle;\n",
       "    }\n",
       "\n",
       "    .dataframe tbody tr th {\n",
       "        vertical-align: top;\n",
       "    }\n",
       "\n",
       "    .dataframe thead th {\n",
       "        text-align: right;\n",
       "    }\n",
       "</style>\n",
       "<table border=\"1\" class=\"dataframe\">\n",
       "  <thead>\n",
       "    <tr style=\"text-align: right;\">\n",
       "      <th></th>\n",
       "      <th>title</th>\n",
       "      <th>summary</th>\n",
       "      <th>n_enrolled</th>\n",
       "      <th>course_type</th>\n",
       "      <th>institution</th>\n",
       "      <th>instructors</th>\n",
       "      <th>Level</th>\n",
       "      <th>subject</th>\n",
       "      <th>language</th>\n",
       "      <th>subtitles</th>\n",
       "      <th>course_effort</th>\n",
       "      <th>course_length</th>\n",
       "      <th>price</th>\n",
       "      <th>verified_certificate_price</th>\n",
       "    </tr>\n",
       "  </thead>\n",
       "  <tbody>\n",
       "    <tr>\n",
       "      <th>0</th>\n",
       "      <td>How to Learn Online</td>\n",
       "      <td>Learn essential strategies for successful onli...</td>\n",
       "      <td>124980</td>\n",
       "      <td>Self-paced on your time</td>\n",
       "      <td>edX</td>\n",
       "      <td>Nina Huntemann-Robyn Belair-Ben Piscopo</td>\n",
       "      <td>Introductory</td>\n",
       "      <td>Education &amp; Teacher Training</td>\n",
       "      <td>English</td>\n",
       "      <td>English</td>\n",
       "      <td>2–3 hours per week</td>\n",
       "      <td>2</td>\n",
       "      <td>Free</td>\n",
       "      <td>49.0</td>\n",
       "    </tr>\n",
       "    <tr>\n",
       "      <th>1</th>\n",
       "      <td>Programming for Everybody (Getting Started wit...</td>\n",
       "      <td>This course is a \"no prerequisite\" introductio...</td>\n",
       "      <td>293864</td>\n",
       "      <td>Self-paced on your time</td>\n",
       "      <td>The University of Michigan</td>\n",
       "      <td>Charles Severance</td>\n",
       "      <td>Introductory</td>\n",
       "      <td>Computer Science</td>\n",
       "      <td>English</td>\n",
       "      <td>English</td>\n",
       "      <td>2–4 hours per week</td>\n",
       "      <td>7</td>\n",
       "      <td>Free</td>\n",
       "      <td>49.0</td>\n",
       "    </tr>\n",
       "    <tr>\n",
       "      <th>2</th>\n",
       "      <td>CS50's Introduction to Computer Science</td>\n",
       "      <td>An introduction to the intellectual enterprise...</td>\n",
       "      <td>2442271</td>\n",
       "      <td>Self-paced on your time</td>\n",
       "      <td>Harvard University</td>\n",
       "      <td>David J. Malan-Doug Lloyd-Brian Yu</td>\n",
       "      <td>Introductory</td>\n",
       "      <td>Computer Science</td>\n",
       "      <td>English</td>\n",
       "      <td>English</td>\n",
       "      <td>6–18 hours per week</td>\n",
       "      <td>12</td>\n",
       "      <td>Free</td>\n",
       "      <td>90.0</td>\n",
       "    </tr>\n",
       "  </tbody>\n",
       "</table>\n",
       "</div>"
      ],
      "text/plain": [
       "                                               title  \\\n",
       "0                                How to Learn Online   \n",
       "1  Programming for Everybody (Getting Started wit...   \n",
       "2            CS50's Introduction to Computer Science   \n",
       "\n",
       "                                             summary  n_enrolled  \\\n",
       "0  Learn essential strategies for successful onli...      124980   \n",
       "1  This course is a \"no prerequisite\" introductio...      293864   \n",
       "2  An introduction to the intellectual enterprise...     2442271   \n",
       "\n",
       "               course_type                 institution  \\\n",
       "0  Self-paced on your time                         edX   \n",
       "1  Self-paced on your time  The University of Michigan   \n",
       "2  Self-paced on your time          Harvard University   \n",
       "\n",
       "                               instructors         Level  \\\n",
       "0  Nina Huntemann-Robyn Belair-Ben Piscopo  Introductory   \n",
       "1                        Charles Severance  Introductory   \n",
       "2       David J. Malan-Doug Lloyd-Brian Yu  Introductory   \n",
       "\n",
       "                        subject language subtitles        course_effort  \\\n",
       "0  Education & Teacher Training  English   English   2–3 hours per week   \n",
       "1              Computer Science  English   English   2–4 hours per week   \n",
       "2              Computer Science  English   English  6–18 hours per week   \n",
       "\n",
       "   course_length price  verified_certificate_price  \n",
       "0              2  Free                        49.0  \n",
       "1              7  Free                        49.0  \n",
       "2             12  Free                        90.0  "
      ]
     },
     "execution_count": 770,
     "metadata": {},
     "output_type": "execute_result"
    }
   ],
   "source": [
    "edx_data.head(3)"
   ]
  },
  {
   "cell_type": "code",
   "execution_count": 771,
   "metadata": {},
   "outputs": [
    {
     "data": {
      "text/plain": [
       "array(['2–3 hours per week', '2–4 hours per week', '6–18 hours per week',\n",
       "       '10–15 hours per week', '5–7 hours per week',\n",
       "       '8–10 hours per week', '1–3 hours per week', '3–4 hours per week',\n",
       "       '3–5 hours per week', '2–6 hours per week', '1–2 hours per week',\n",
       "       '2–5 hours per week', '4–6 hours per week', '10–30 hours per week',\n",
       "       '6–9 hours per week', '3–6 hours per week', '5–10 hours per week',\n",
       "       '4–5 hours per week', '5–8 hours per week', '5–6 hours per week',\n",
       "       '9–10 hours per week', '4–8 hours per week',\n",
       "       '15–20 hours per week', '6–8 hours per week',\n",
       "       '10–14 hours per week', '10–20 hours per week',\n",
       "       '8–12 hours per week', '4–10 hours per week',\n",
       "       '10–12 hours per week', '7–10 hours per week',\n",
       "       '3–7 hours per week', '1–4 hours per week', '6–10 hours per week',\n",
       "       '1–5 hours per week', '8–9 hours per week', '6–12 hours per week',\n",
       "       '3–8 hours per week', '1–10 hours per week',\n",
       "       '10–18 hours per week', '4–12 hours per week',\n",
       "       '7–14 hours per week', '7–9 hours per week',\n",
       "       '10–11 hours per week', '16–24 hours per week',\n",
       "       '4–7 hours per week', '2–10 hours per week',\n",
       "       '11–13 hours per week', '18–20 hours per week',\n",
       "       '12–16 hours per week', '9–12 hours per week',\n",
       "       '20–28 hours per week', '7–8 hours per week',\n",
       "       '12–20 hours per week'], dtype=object)"
      ]
     },
     "execution_count": 771,
     "metadata": {},
     "output_type": "execute_result"
    }
   ],
   "source": [
    "edx_data['course_effort'].unique()"
   ]
  },
  {
   "cell_type": "code",
   "execution_count": 772,
   "metadata": {},
   "outputs": [],
   "source": [
    "def calculate_average(text):\n",
    "    text = text.split()[0]\n",
    "    values = text.split('–')\n",
    "    min_value = int(values[0])\n",
    "    max_value = int(values[1])\n",
    "    return (min_value + max_value) / 2\n",
    "\n",
    "edx_data['course_effort'] = edx_data['course_effort'].apply(calculate_average)"
   ]
  },
  {
   "cell_type": "code",
   "execution_count": 773,
   "metadata": {},
   "outputs": [],
   "source": [
    "edx_data['instructors'] = edx_data['instructors'].str.split('-')"
   ]
  },
  {
   "cell_type": "code",
   "execution_count": 774,
   "metadata": {},
   "outputs": [
    {
     "data": {
      "text/plain": [
       "array(['English', 'Español', 'Italiano', '日本語', 'Français', '中文',\n",
       "       'Português', 'اللغة العربية', 'Deutsch'], dtype=object)"
      ]
     },
     "execution_count": 774,
     "metadata": {},
     "output_type": "execute_result"
    }
   ],
   "source": [
    "edx_data['language'].unique()"
   ]
  },
  {
   "cell_type": "code",
   "execution_count": 775,
   "metadata": {},
   "outputs": [],
   "source": [
    "edx_data['subtitles'] = edx_data['subtitles'].str.split(',')"
   ]
  },
  {
   "cell_type": "code",
   "execution_count": 776,
   "metadata": {},
   "outputs": [],
   "source": [
    "edx_data.rename(columns = {'title': 'course_name', \n",
    "                 'summary': 'course_summary', \n",
    "                 'n_enrolled': 'enrrollment_count', \n",
    "                 'Level': 'course_level', 'subject': \n",
    "                 'course_subject', 'course_effort': 'avg_course_effort', 'course_length': 'duration_in_weeks','price': 'course_price'}, inplace=True)"
   ]
  },
  {
   "cell_type": "code",
   "execution_count": 777,
   "metadata": {},
   "outputs": [
    {
     "data": {
      "text/html": [
       "<div>\n",
       "<style scoped>\n",
       "    .dataframe tbody tr th:only-of-type {\n",
       "        vertical-align: middle;\n",
       "    }\n",
       "\n",
       "    .dataframe tbody tr th {\n",
       "        vertical-align: top;\n",
       "    }\n",
       "\n",
       "    .dataframe thead th {\n",
       "        text-align: right;\n",
       "    }\n",
       "</style>\n",
       "<table border=\"1\" class=\"dataframe\">\n",
       "  <thead>\n",
       "    <tr style=\"text-align: right;\">\n",
       "      <th></th>\n",
       "      <th>course_name</th>\n",
       "      <th>course_summary</th>\n",
       "      <th>enrrollment_count</th>\n",
       "      <th>course_type</th>\n",
       "      <th>institution</th>\n",
       "      <th>instructors</th>\n",
       "      <th>course_level</th>\n",
       "      <th>course_subject</th>\n",
       "      <th>language</th>\n",
       "      <th>subtitles</th>\n",
       "      <th>avg_course_effort</th>\n",
       "      <th>duration_in_weeks</th>\n",
       "      <th>course_price</th>\n",
       "      <th>verified_certificate_price</th>\n",
       "    </tr>\n",
       "  </thead>\n",
       "  <tbody>\n",
       "    <tr>\n",
       "      <th>0</th>\n",
       "      <td>How to Learn Online</td>\n",
       "      <td>Learn essential strategies for successful onli...</td>\n",
       "      <td>124980</td>\n",
       "      <td>Self-paced on your time</td>\n",
       "      <td>edX</td>\n",
       "      <td>[Nina Huntemann, Robyn Belair, Ben Piscopo]</td>\n",
       "      <td>Introductory</td>\n",
       "      <td>Education &amp; Teacher Training</td>\n",
       "      <td>English</td>\n",
       "      <td>[English]</td>\n",
       "      <td>2.5</td>\n",
       "      <td>2</td>\n",
       "      <td>Free</td>\n",
       "      <td>49.0</td>\n",
       "    </tr>\n",
       "    <tr>\n",
       "      <th>1</th>\n",
       "      <td>Programming for Everybody (Getting Started wit...</td>\n",
       "      <td>This course is a \"no prerequisite\" introductio...</td>\n",
       "      <td>293864</td>\n",
       "      <td>Self-paced on your time</td>\n",
       "      <td>The University of Michigan</td>\n",
       "      <td>[Charles Severance]</td>\n",
       "      <td>Introductory</td>\n",
       "      <td>Computer Science</td>\n",
       "      <td>English</td>\n",
       "      <td>[English]</td>\n",
       "      <td>3.0</td>\n",
       "      <td>7</td>\n",
       "      <td>Free</td>\n",
       "      <td>49.0</td>\n",
       "    </tr>\n",
       "    <tr>\n",
       "      <th>2</th>\n",
       "      <td>CS50's Introduction to Computer Science</td>\n",
       "      <td>An introduction to the intellectual enterprise...</td>\n",
       "      <td>2442271</td>\n",
       "      <td>Self-paced on your time</td>\n",
       "      <td>Harvard University</td>\n",
       "      <td>[David J. Malan, Doug Lloyd, Brian Yu]</td>\n",
       "      <td>Introductory</td>\n",
       "      <td>Computer Science</td>\n",
       "      <td>English</td>\n",
       "      <td>[English]</td>\n",
       "      <td>12.0</td>\n",
       "      <td>12</td>\n",
       "      <td>Free</td>\n",
       "      <td>90.0</td>\n",
       "    </tr>\n",
       "  </tbody>\n",
       "</table>\n",
       "</div>"
      ],
      "text/plain": [
       "                                         course_name  \\\n",
       "0                                How to Learn Online   \n",
       "1  Programming for Everybody (Getting Started wit...   \n",
       "2            CS50's Introduction to Computer Science   \n",
       "\n",
       "                                      course_summary  enrrollment_count  \\\n",
       "0  Learn essential strategies for successful onli...             124980   \n",
       "1  This course is a \"no prerequisite\" introductio...             293864   \n",
       "2  An introduction to the intellectual enterprise...            2442271   \n",
       "\n",
       "               course_type                 institution  \\\n",
       "0  Self-paced on your time                         edX   \n",
       "1  Self-paced on your time  The University of Michigan   \n",
       "2  Self-paced on your time          Harvard University   \n",
       "\n",
       "                                   instructors  course_level  \\\n",
       "0  [Nina Huntemann, Robyn Belair, Ben Piscopo]  Introductory   \n",
       "1                          [Charles Severance]  Introductory   \n",
       "2       [David J. Malan, Doug Lloyd, Brian Yu]  Introductory   \n",
       "\n",
       "                 course_subject language  subtitles  avg_course_effort  \\\n",
       "0  Education & Teacher Training  English  [English]                2.5   \n",
       "1              Computer Science  English  [English]                3.0   \n",
       "2              Computer Science  English  [English]               12.0   \n",
       "\n",
       "   duration_in_weeks course_price  verified_certificate_price  \n",
       "0                  2         Free                        49.0  \n",
       "1                  7         Free                        49.0  \n",
       "2                 12         Free                        90.0  "
      ]
     },
     "execution_count": 777,
     "metadata": {},
     "output_type": "execute_result"
    }
   ],
   "source": [
    "edx_data.head(3)"
   ]
  },
  {
   "cell_type": "code",
   "execution_count": 778,
   "metadata": {},
   "outputs": [
    {
     "name": "stdout",
     "output_type": "stream",
     "text": [
      "<class 'pandas.core.frame.DataFrame'>\n",
      "Index: 974 entries, 0 to 974\n",
      "Data columns (total 14 columns):\n",
      " #   Column                      Non-Null Count  Dtype  \n",
      "---  ------                      --------------  -----  \n",
      " 0   course_name                 974 non-null    object \n",
      " 1   course_summary              921 non-null    object \n",
      " 2   enrrollment_count           974 non-null    int64  \n",
      " 3   course_type                 974 non-null    object \n",
      " 4   institution                 974 non-null    object \n",
      " 5   instructors                 971 non-null    object \n",
      " 6   course_level                974 non-null    object \n",
      " 7   course_subject              974 non-null    object \n",
      " 8   language                    974 non-null    object \n",
      " 9   subtitles                   971 non-null    object \n",
      " 10  avg_course_effort           974 non-null    float64\n",
      " 11  duration_in_weeks           974 non-null    int64  \n",
      " 12  course_price                974 non-null    object \n",
      " 13  verified_certificate_price  974 non-null    float64\n",
      "dtypes: float64(2), int64(2), object(10)\n",
      "memory usage: 114.1+ KB\n"
     ]
    }
   ],
   "source": [
    "edx_data.info()"
   ]
  },
  {
   "attachments": {},
   "cell_type": "markdown",
   "metadata": {},
   "source": [
    "## Udemy"
   ]
  },
  {
   "cell_type": "code",
   "execution_count": 779,
   "metadata": {},
   "outputs": [
    {
     "data": {
      "text/html": [
       "<div>\n",
       "<style scoped>\n",
       "    .dataframe tbody tr th:only-of-type {\n",
       "        vertical-align: middle;\n",
       "    }\n",
       "\n",
       "    .dataframe tbody tr th {\n",
       "        vertical-align: top;\n",
       "    }\n",
       "\n",
       "    .dataframe thead th {\n",
       "        text-align: right;\n",
       "    }\n",
       "</style>\n",
       "<table border=\"1\" class=\"dataframe\">\n",
       "  <thead>\n",
       "    <tr style=\"text-align: right;\">\n",
       "      <th></th>\n",
       "      <th>course_id</th>\n",
       "      <th>course_title</th>\n",
       "      <th>url</th>\n",
       "      <th>is_paid</th>\n",
       "      <th>price</th>\n",
       "      <th>num_subscribers</th>\n",
       "      <th>num_reviews</th>\n",
       "      <th>num_lectures</th>\n",
       "      <th>level</th>\n",
       "      <th>content_duration</th>\n",
       "      <th>published_timestamp</th>\n",
       "      <th>subject</th>\n",
       "    </tr>\n",
       "  </thead>\n",
       "  <tbody>\n",
       "    <tr>\n",
       "      <th>0</th>\n",
       "      <td>1070968</td>\n",
       "      <td>Ultimate Investment Banking Course</td>\n",
       "      <td>https://www.udemy.com/ultimate-investment-bank...</td>\n",
       "      <td>True</td>\n",
       "      <td>200</td>\n",
       "      <td>2147</td>\n",
       "      <td>23</td>\n",
       "      <td>51</td>\n",
       "      <td>All Levels</td>\n",
       "      <td>1.5</td>\n",
       "      <td>2017-01-18T20:58:58Z</td>\n",
       "      <td>Business Finance</td>\n",
       "    </tr>\n",
       "    <tr>\n",
       "      <th>1</th>\n",
       "      <td>1113822</td>\n",
       "      <td>Complete GST Course &amp; Certification - Grow You...</td>\n",
       "      <td>https://www.udemy.com/goods-and-services-tax/</td>\n",
       "      <td>True</td>\n",
       "      <td>75</td>\n",
       "      <td>2792</td>\n",
       "      <td>923</td>\n",
       "      <td>274</td>\n",
       "      <td>All Levels</td>\n",
       "      <td>39.0</td>\n",
       "      <td>2017-03-09T16:34:20Z</td>\n",
       "      <td>Business Finance</td>\n",
       "    </tr>\n",
       "    <tr>\n",
       "      <th>2</th>\n",
       "      <td>1006314</td>\n",
       "      <td>Financial Modeling for Business Analysts and C...</td>\n",
       "      <td>https://www.udemy.com/financial-modeling-for-b...</td>\n",
       "      <td>True</td>\n",
       "      <td>45</td>\n",
       "      <td>2174</td>\n",
       "      <td>74</td>\n",
       "      <td>51</td>\n",
       "      <td>Intermediate Level</td>\n",
       "      <td>2.5</td>\n",
       "      <td>2016-12-19T19:26:30Z</td>\n",
       "      <td>Business Finance</td>\n",
       "    </tr>\n",
       "    <tr>\n",
       "      <th>3</th>\n",
       "      <td>1210588</td>\n",
       "      <td>Beginner to Pro - Financial Analysis in Excel ...</td>\n",
       "      <td>https://www.udemy.com/complete-excel-finance-c...</td>\n",
       "      <td>True</td>\n",
       "      <td>95</td>\n",
       "      <td>2451</td>\n",
       "      <td>11</td>\n",
       "      <td>36</td>\n",
       "      <td>All Levels</td>\n",
       "      <td>3.0</td>\n",
       "      <td>2017-05-30T20:07:24Z</td>\n",
       "      <td>Business Finance</td>\n",
       "    </tr>\n",
       "    <tr>\n",
       "      <th>4</th>\n",
       "      <td>1011058</td>\n",
       "      <td>How To Maximize Your Profits Trading Options</td>\n",
       "      <td>https://www.udemy.com/how-to-maximize-your-pro...</td>\n",
       "      <td>True</td>\n",
       "      <td>200</td>\n",
       "      <td>1276</td>\n",
       "      <td>45</td>\n",
       "      <td>26</td>\n",
       "      <td>Intermediate Level</td>\n",
       "      <td>2.0</td>\n",
       "      <td>2016-12-13T14:57:18Z</td>\n",
       "      <td>Business Finance</td>\n",
       "    </tr>\n",
       "    <tr>\n",
       "      <th>...</th>\n",
       "      <td>...</td>\n",
       "      <td>...</td>\n",
       "      <td>...</td>\n",
       "      <td>...</td>\n",
       "      <td>...</td>\n",
       "      <td>...</td>\n",
       "      <td>...</td>\n",
       "      <td>...</td>\n",
       "      <td>...</td>\n",
       "      <td>...</td>\n",
       "      <td>...</td>\n",
       "      <td>...</td>\n",
       "    </tr>\n",
       "    <tr>\n",
       "      <th>3673</th>\n",
       "      <td>775618</td>\n",
       "      <td>Learn jQuery from Scratch - Master of JavaScri...</td>\n",
       "      <td>https://www.udemy.com/easy-jquery-for-beginner...</td>\n",
       "      <td>True</td>\n",
       "      <td>100</td>\n",
       "      <td>1040</td>\n",
       "      <td>14</td>\n",
       "      <td>21</td>\n",
       "      <td>All Levels</td>\n",
       "      <td>2.0</td>\n",
       "      <td>2016-06-14T17:36:46Z</td>\n",
       "      <td>Web Development</td>\n",
       "    </tr>\n",
       "    <tr>\n",
       "      <th>3674</th>\n",
       "      <td>1088178</td>\n",
       "      <td>How To Design A WordPress Website With No Codi...</td>\n",
       "      <td>https://www.udemy.com/how-to-make-a-wordpress-...</td>\n",
       "      <td>True</td>\n",
       "      <td>25</td>\n",
       "      <td>306</td>\n",
       "      <td>3</td>\n",
       "      <td>42</td>\n",
       "      <td>Beginner Level</td>\n",
       "      <td>3.5</td>\n",
       "      <td>2017-03-10T22:24:30Z</td>\n",
       "      <td>Web Development</td>\n",
       "    </tr>\n",
       "    <tr>\n",
       "      <th>3675</th>\n",
       "      <td>635248</td>\n",
       "      <td>Learn and Build using Polymer</td>\n",
       "      <td>https://www.udemy.com/learn-and-build-using-po...</td>\n",
       "      <td>True</td>\n",
       "      <td>40</td>\n",
       "      <td>513</td>\n",
       "      <td>169</td>\n",
       "      <td>48</td>\n",
       "      <td>All Levels</td>\n",
       "      <td>3.5</td>\n",
       "      <td>2015-12-30T16:41:42Z</td>\n",
       "      <td>Web Development</td>\n",
       "    </tr>\n",
       "    <tr>\n",
       "      <th>3676</th>\n",
       "      <td>905096</td>\n",
       "      <td>CSS Animations: Create Amazing Effects on Your...</td>\n",
       "      <td>https://www.udemy.com/css-animations-create-am...</td>\n",
       "      <td>True</td>\n",
       "      <td>50</td>\n",
       "      <td>300</td>\n",
       "      <td>31</td>\n",
       "      <td>38</td>\n",
       "      <td>All Levels</td>\n",
       "      <td>3.0</td>\n",
       "      <td>2016-08-11T19:06:15Z</td>\n",
       "      <td>Web Development</td>\n",
       "    </tr>\n",
       "    <tr>\n",
       "      <th>3677</th>\n",
       "      <td>297602</td>\n",
       "      <td>Using MODX CMS to Build Websites: A Beginner's...</td>\n",
       "      <td>https://www.udemy.com/using-modx-cms-to-build-...</td>\n",
       "      <td>True</td>\n",
       "      <td>45</td>\n",
       "      <td>901</td>\n",
       "      <td>36</td>\n",
       "      <td>20</td>\n",
       "      <td>Beginner Level</td>\n",
       "      <td>2.0</td>\n",
       "      <td>2014-09-28T19:51:11Z</td>\n",
       "      <td>Web Development</td>\n",
       "    </tr>\n",
       "  </tbody>\n",
       "</table>\n",
       "<p>3678 rows × 12 columns</p>\n",
       "</div>"
      ],
      "text/plain": [
       "      course_id                                       course_title  \\\n",
       "0       1070968                 Ultimate Investment Banking Course   \n",
       "1       1113822  Complete GST Course & Certification - Grow You...   \n",
       "2       1006314  Financial Modeling for Business Analysts and C...   \n",
       "3       1210588  Beginner to Pro - Financial Analysis in Excel ...   \n",
       "4       1011058       How To Maximize Your Profits Trading Options   \n",
       "...         ...                                                ...   \n",
       "3673     775618  Learn jQuery from Scratch - Master of JavaScri...   \n",
       "3674    1088178  How To Design A WordPress Website With No Codi...   \n",
       "3675     635248                      Learn and Build using Polymer   \n",
       "3676     905096  CSS Animations: Create Amazing Effects on Your...   \n",
       "3677     297602  Using MODX CMS to Build Websites: A Beginner's...   \n",
       "\n",
       "                                                    url  is_paid  price  \\\n",
       "0     https://www.udemy.com/ultimate-investment-bank...     True    200   \n",
       "1         https://www.udemy.com/goods-and-services-tax/     True     75   \n",
       "2     https://www.udemy.com/financial-modeling-for-b...     True     45   \n",
       "3     https://www.udemy.com/complete-excel-finance-c...     True     95   \n",
       "4     https://www.udemy.com/how-to-maximize-your-pro...     True    200   \n",
       "...                                                 ...      ...    ...   \n",
       "3673  https://www.udemy.com/easy-jquery-for-beginner...     True    100   \n",
       "3674  https://www.udemy.com/how-to-make-a-wordpress-...     True     25   \n",
       "3675  https://www.udemy.com/learn-and-build-using-po...     True     40   \n",
       "3676  https://www.udemy.com/css-animations-create-am...     True     50   \n",
       "3677  https://www.udemy.com/using-modx-cms-to-build-...     True     45   \n",
       "\n",
       "      num_subscribers  num_reviews  num_lectures               level  \\\n",
       "0                2147           23            51          All Levels   \n",
       "1                2792          923           274          All Levels   \n",
       "2                2174           74            51  Intermediate Level   \n",
       "3                2451           11            36          All Levels   \n",
       "4                1276           45            26  Intermediate Level   \n",
       "...               ...          ...           ...                 ...   \n",
       "3673             1040           14            21          All Levels   \n",
       "3674              306            3            42      Beginner Level   \n",
       "3675              513          169            48          All Levels   \n",
       "3676              300           31            38          All Levels   \n",
       "3677              901           36            20      Beginner Level   \n",
       "\n",
       "      content_duration   published_timestamp           subject  \n",
       "0                  1.5  2017-01-18T20:58:58Z  Business Finance  \n",
       "1                 39.0  2017-03-09T16:34:20Z  Business Finance  \n",
       "2                  2.5  2016-12-19T19:26:30Z  Business Finance  \n",
       "3                  3.0  2017-05-30T20:07:24Z  Business Finance  \n",
       "4                  2.0  2016-12-13T14:57:18Z  Business Finance  \n",
       "...                ...                   ...               ...  \n",
       "3673               2.0  2016-06-14T17:36:46Z   Web Development  \n",
       "3674               3.5  2017-03-10T22:24:30Z   Web Development  \n",
       "3675               3.5  2015-12-30T16:41:42Z   Web Development  \n",
       "3676               3.0  2016-08-11T19:06:15Z   Web Development  \n",
       "3677               2.0  2014-09-28T19:51:11Z   Web Development  \n",
       "\n",
       "[3678 rows x 12 columns]"
      ]
     },
     "execution_count": 779,
     "metadata": {},
     "output_type": "execute_result"
    }
   ],
   "source": [
    "udemy_data_raw = pd.read_csv(\"../data/udemy_courses.csv\")\n",
    "udemy_data_raw"
   ]
  },
  {
   "cell_type": "code",
   "execution_count": 780,
   "metadata": {},
   "outputs": [
    {
     "name": "stdout",
     "output_type": "stream",
     "text": [
      "<class 'pandas.core.frame.DataFrame'>\n",
      "RangeIndex: 3678 entries, 0 to 3677\n",
      "Data columns (total 12 columns):\n",
      " #   Column               Non-Null Count  Dtype  \n",
      "---  ------               --------------  -----  \n",
      " 0   course_id            3678 non-null   int64  \n",
      " 1   course_title         3678 non-null   object \n",
      " 2   url                  3678 non-null   object \n",
      " 3   is_paid              3678 non-null   bool   \n",
      " 4   price                3678 non-null   int64  \n",
      " 5   num_subscribers      3678 non-null   int64  \n",
      " 6   num_reviews          3678 non-null   int64  \n",
      " 7   num_lectures         3678 non-null   int64  \n",
      " 8   level                3678 non-null   object \n",
      " 9   content_duration     3678 non-null   float64\n",
      " 10  published_timestamp  3678 non-null   object \n",
      " 11  subject              3678 non-null   object \n",
      "dtypes: bool(1), float64(1), int64(5), object(5)\n",
      "memory usage: 319.8+ KB\n"
     ]
    }
   ],
   "source": [
    "udemy_data_raw.info()"
   ]
  },
  {
   "cell_type": "code",
   "execution_count": 781,
   "metadata": {},
   "outputs": [
    {
     "data": {
      "text/plain": [
       "6"
      ]
     },
     "execution_count": 781,
     "metadata": {},
     "output_type": "execute_result"
    }
   ],
   "source": [
    "udemy_data_raw.duplicated().sum()"
   ]
  },
  {
   "cell_type": "code",
   "execution_count": 782,
   "metadata": {},
   "outputs": [
    {
     "data": {
      "text/plain": [
       "course_id              0\n",
       "course_title           0\n",
       "url                    0\n",
       "is_paid                0\n",
       "price                  0\n",
       "num_subscribers        0\n",
       "num_reviews            0\n",
       "num_lectures           0\n",
       "level                  0\n",
       "content_duration       0\n",
       "published_timestamp    0\n",
       "subject                0\n",
       "dtype: int64"
      ]
     },
     "execution_count": 782,
     "metadata": {},
     "output_type": "execute_result"
    }
   ],
   "source": [
    "udemy_data_raw.isna().sum()"
   ]
  },
  {
   "cell_type": "code",
   "execution_count": 783,
   "metadata": {},
   "outputs": [
    {
     "data": {
      "text/plain": [
       "3672"
      ]
     },
     "execution_count": 783,
     "metadata": {},
     "output_type": "execute_result"
    }
   ],
   "source": [
    "udemy_data = udemy_data_raw.drop(['url'], axis=1)\n",
    "udemy_data = udemy_data.drop_duplicates()\n",
    "udemy_data.shape[0]"
   ]
  },
  {
   "cell_type": "code",
   "execution_count": 784,
   "metadata": {},
   "outputs": [
    {
     "data": {
      "text/plain": [
       "array(['All Levels', 'Intermediate Level', 'Beginner Level',\n",
       "       'Expert Level'], dtype=object)"
      ]
     },
     "execution_count": 784,
     "metadata": {},
     "output_type": "execute_result"
    }
   ],
   "source": [
    "udemy_data['level'].unique()"
   ]
  },
  {
   "cell_type": "code",
   "execution_count": 785,
   "metadata": {},
   "outputs": [
    {
     "data": {
      "text/plain": [
       "array(['Business Finance', 'Graphic Design', 'Musical Instruments',\n",
       "       'Web Development'], dtype=object)"
      ]
     },
     "execution_count": 785,
     "metadata": {},
     "output_type": "execute_result"
    }
   ],
   "source": [
    "udemy_data['subject'].unique()"
   ]
  },
  {
   "cell_type": "code",
   "execution_count": 786,
   "metadata": {},
   "outputs": [],
   "source": [
    "udemy_data['published_timestamp'] = pd.to_datetime(udemy_data['published_timestamp'])"
   ]
  },
  {
   "cell_type": "code",
   "execution_count": 787,
   "metadata": {},
   "outputs": [],
   "source": [
    "udemy_data.rename(columns = {'price': 'course_price', \n",
    "                             'level': 'course_level', \n",
    "                             'published_timestamp': 'published_date'}, inplace=True)"
   ]
  },
  {
   "cell_type": "code",
   "execution_count": 788,
   "metadata": {},
   "outputs": [
    {
     "data": {
      "text/html": [
       "<div>\n",
       "<style scoped>\n",
       "    .dataframe tbody tr th:only-of-type {\n",
       "        vertical-align: middle;\n",
       "    }\n",
       "\n",
       "    .dataframe tbody tr th {\n",
       "        vertical-align: top;\n",
       "    }\n",
       "\n",
       "    .dataframe thead th {\n",
       "        text-align: right;\n",
       "    }\n",
       "</style>\n",
       "<table border=\"1\" class=\"dataframe\">\n",
       "  <thead>\n",
       "    <tr style=\"text-align: right;\">\n",
       "      <th></th>\n",
       "      <th>course_id</th>\n",
       "      <th>course_title</th>\n",
       "      <th>is_paid</th>\n",
       "      <th>course_price</th>\n",
       "      <th>num_subscribers</th>\n",
       "      <th>num_reviews</th>\n",
       "      <th>num_lectures</th>\n",
       "      <th>course_level</th>\n",
       "      <th>content_duration</th>\n",
       "      <th>published_date</th>\n",
       "      <th>subject</th>\n",
       "    </tr>\n",
       "  </thead>\n",
       "  <tbody>\n",
       "    <tr>\n",
       "      <th>0</th>\n",
       "      <td>1070968</td>\n",
       "      <td>Ultimate Investment Banking Course</td>\n",
       "      <td>True</td>\n",
       "      <td>200</td>\n",
       "      <td>2147</td>\n",
       "      <td>23</td>\n",
       "      <td>51</td>\n",
       "      <td>All Levels</td>\n",
       "      <td>1.5</td>\n",
       "      <td>2017-01-18 20:58:58+00:00</td>\n",
       "      <td>Business Finance</td>\n",
       "    </tr>\n",
       "    <tr>\n",
       "      <th>1</th>\n",
       "      <td>1113822</td>\n",
       "      <td>Complete GST Course &amp; Certification - Grow You...</td>\n",
       "      <td>True</td>\n",
       "      <td>75</td>\n",
       "      <td>2792</td>\n",
       "      <td>923</td>\n",
       "      <td>274</td>\n",
       "      <td>All Levels</td>\n",
       "      <td>39.0</td>\n",
       "      <td>2017-03-09 16:34:20+00:00</td>\n",
       "      <td>Business Finance</td>\n",
       "    </tr>\n",
       "    <tr>\n",
       "      <th>2</th>\n",
       "      <td>1006314</td>\n",
       "      <td>Financial Modeling for Business Analysts and C...</td>\n",
       "      <td>True</td>\n",
       "      <td>45</td>\n",
       "      <td>2174</td>\n",
       "      <td>74</td>\n",
       "      <td>51</td>\n",
       "      <td>Intermediate Level</td>\n",
       "      <td>2.5</td>\n",
       "      <td>2016-12-19 19:26:30+00:00</td>\n",
       "      <td>Business Finance</td>\n",
       "    </tr>\n",
       "  </tbody>\n",
       "</table>\n",
       "</div>"
      ],
      "text/plain": [
       "   course_id                                       course_title  is_paid  \\\n",
       "0    1070968                 Ultimate Investment Banking Course     True   \n",
       "1    1113822  Complete GST Course & Certification - Grow You...     True   \n",
       "2    1006314  Financial Modeling for Business Analysts and C...     True   \n",
       "\n",
       "   course_price  num_subscribers  num_reviews  num_lectures  \\\n",
       "0           200             2147           23            51   \n",
       "1            75             2792          923           274   \n",
       "2            45             2174           74            51   \n",
       "\n",
       "         course_level  content_duration            published_date  \\\n",
       "0          All Levels               1.5 2017-01-18 20:58:58+00:00   \n",
       "1          All Levels              39.0 2017-03-09 16:34:20+00:00   \n",
       "2  Intermediate Level               2.5 2016-12-19 19:26:30+00:00   \n",
       "\n",
       "            subject  \n",
       "0  Business Finance  \n",
       "1  Business Finance  \n",
       "2  Business Finance  "
      ]
     },
     "execution_count": 788,
     "metadata": {},
     "output_type": "execute_result"
    }
   ],
   "source": [
    "udemy_data.head(3)"
   ]
  },
  {
   "cell_type": "code",
   "execution_count": 789,
   "metadata": {},
   "outputs": [
    {
     "name": "stdout",
     "output_type": "stream",
     "text": [
      "<class 'pandas.core.frame.DataFrame'>\n",
      "Index: 3672 entries, 0 to 3677\n",
      "Data columns (total 11 columns):\n",
      " #   Column            Non-Null Count  Dtype              \n",
      "---  ------            --------------  -----              \n",
      " 0   course_id         3672 non-null   int64              \n",
      " 1   course_title      3672 non-null   object             \n",
      " 2   is_paid           3672 non-null   bool               \n",
      " 3   course_price      3672 non-null   int64              \n",
      " 4   num_subscribers   3672 non-null   int64              \n",
      " 5   num_reviews       3672 non-null   int64              \n",
      " 6   num_lectures      3672 non-null   int64              \n",
      " 7   course_level      3672 non-null   object             \n",
      " 8   content_duration  3672 non-null   float64            \n",
      " 9   published_date    3672 non-null   datetime64[ns, UTC]\n",
      " 10  subject           3672 non-null   object             \n",
      "dtypes: bool(1), datetime64[ns, UTC](1), float64(1), int64(5), object(3)\n",
      "memory usage: 319.1+ KB\n"
     ]
    }
   ],
   "source": [
    "udemy_data.info()"
   ]
  }
 ],
 "metadata": {
  "kernelspec": {
   "display_name": ".venv",
   "language": "python",
   "name": "python3"
  },
  "language_info": {
   "codemirror_mode": {
    "name": "ipython",
    "version": 3
   },
   "file_extension": ".py",
   "mimetype": "text/x-python",
   "name": "python",
   "nbconvert_exporter": "python",
   "pygments_lexer": "ipython3",
   "version": "3.11.1"
  },
  "orig_nbformat": 4
 },
 "nbformat": 4,
 "nbformat_minor": 2
}
